{
 "cells": [
  {
   "cell_type": "code",
   "execution_count": 4,
   "id": "232a762d",
   "metadata": {},
   "outputs": [
    {
     "name": "stdout",
     "output_type": "stream",
     "text": [
      "Pandas version:  2.0.3\n"
     ]
    }
   ],
   "source": [
    "import pandas as pd\n",
    "import numpy as np\n",
    "import os\n",
    "\n",
    "print(\"Pandas version: \", pd.__version__)"
   ]
  },
  {
   "cell_type": "markdown",
   "id": "f8c3659a",
   "metadata": {},
   "source": [
    "## Set variables"
   ]
  },
  {
   "cell_type": "code",
   "execution_count": 16,
   "id": "2e896782",
   "metadata": {},
   "outputs": [],
   "source": [
    "\n",
    "current_path = ''\n",
    "df_final_filename = f'df_final.csv'"
   ]
  },
  {
   "cell_type": "code",
   "execution_count": 17,
   "id": "1f3be14f",
   "metadata": {},
   "outputs": [],
   "source": [
    "def read_csvs(current_path, files):\n",
    "    df_list = []\n",
    "    for file in files:\n",
    "        df = pd.read_csv(os.path.join(current_path, file))\n",
    "        df_list.append(df)\n",
    "        print(f\"{file}\", df.shape)\n",
    "\n",
    "    df_final = pd.concat(df_list)\n",
    "    df_final.reset_index(inplace=True, drop=True)\n",
    "\n",
    "    print(df_final.shape)\n",
    "    return df_final"
   ]
  },
  {
   "cell_type": "markdown",
   "id": "ebfb9e6c",
   "metadata": {},
   "source": [
    "## Read datasets"
   ]
  },
  {
   "cell_type": "code",
   "execution_count": 18,
   "id": "ef7aa610",
   "metadata": {},
   "outputs": [],
   "source": [
    "\n",
    "len_maxp = \"maxp10\"\n",
    "#len_maxp = \"maxp-unlim\"\n",
    "\n",
    "# is_hs = \"w_hs\"\n",
    "#is_hs = \"wo_hs\"\n",
    "\n",
    "object_feature = \"sessions\"\n",
    "# object_feature = \"ip_ttl\"\n",
    "# object_feature = \"pktdir\"\n",
    "# object_feature = \"pktiat\"\n",
    "# object_feature = \"pktlen\"\n",
    "# object_feature = \"tcp_win\"\n",
    "\n",
    "\n",
    "final_files_1 = \"df_final_music_\" + len_maxp + \"_\" + object_feature + \".csv\" \n",
    "final_files_2 = \"df_final_video_\" + len_maxp + \"_\" + object_feature + \".csv\"\n",
    "final_files_3 = \"df_final_disk_\" + len_maxp + \"_\" + object_feature + \".csv\" \n",
    "\n",
    "final_files = [final_files_1,final_files_2,final_files_3] "
   ]
  },
  {
   "cell_type": "code",
   "execution_count": 19,
   "id": "a374a6cf",
   "metadata": {},
   "outputs": [
    {
     "name": "stdout",
     "output_type": "stream",
     "text": [
      "df_final_music_maxp10_sessions.csv (1575, 31)\n",
      "df_final_video_maxp10_sessions.csv (1615, 31)\n",
      "df_final_disk_maxp10_sessions.csv (1503, 33)\n",
      "(4693, 40)\n"
     ]
    }
   ],
   "source": [
    "df_final_sessions = read_csvs(current_path, final_files)\n",
    "# [\n",
    "#         'df_final_woss_sessions.csv',\n",
    "#         'df_final_wss_sessions.csv',\n",
    "#         ])"
   ]
  },
  {
   "cell_type": "code",
   "execution_count": 20,
   "id": "078fdb73",
   "metadata": {},
   "outputs": [],
   "source": [
    "# df_final_pktiat = read_csvs(current_path, [\n",
    "#         'df_final_woss_pktiat.csv',\n",
    "#         'df_final_wss_pktiat.csv',\n",
    "#         ])"
   ]
  },
  {
   "cell_type": "markdown",
   "id": "f4315558",
   "metadata": {},
   "source": [
    "## Normalize data"
   ]
  },
  {
   "cell_type": "code",
   "execution_count": 21,
   "id": "81214a0c",
   "metadata": {},
   "outputs": [],
   "source": [
    "def normalize_minmax(df, startswith):\n",
    "    result = df.copy()\n",
    "    for feature_name in df.columns:\n",
    "        if feature_name.startswith(startswith):\n",
    "            max_value = df[feature_name].abs().max()\n",
    "            min_value = df[feature_name].abs().min()\n",
    "            result[feature_name] = (df[feature_name] - min_value) / (max_value - min_value)\n",
    "    return result\n",
    "\n",
    "def normalize_maxabs(df, startswith):\n",
    "    result = df.copy()\n",
    "    for feature_name in df.columns:\n",
    "        if feature_name.startswith(startswith):\n",
    "            max_value = df[feature_name].abs().max()\n",
    "            result[feature_name] = df[feature_name] / max_value\n",
    "    return result"
   ]
  },
  {
   "cell_type": "code",
   "execution_count": 22,
   "id": "bf0e1aa8",
   "metadata": {},
   "outputs": [],
   "source": [
    "# df_final_sessions = normalize_maxabs(df_final_sessions, 'pktlen')\n",
    "# df_final_pktiat = normalize_maxabs(df_final_pktiat, 'pktiat')"
   ]
  },
  {
   "cell_type": "code",
   "execution_count": 23,
   "id": "9c318e1e",
   "metadata": {},
   "outputs": [
    {
     "data": {
      "text/plain": [
       "(4693, 40)"
      ]
     },
     "execution_count": 23,
     "metadata": {},
     "output_type": "execute_result"
    }
   ],
   "source": [
    "df_final_sessions.shape"
   ]
  },
  {
   "cell_type": "markdown",
   "id": "ccf46b97",
   "metadata": {},
   "source": [
    "## Join datasets"
   ]
  },
  {
   "cell_type": "code",
   "execution_count": 24,
   "id": "e8f1c87a",
   "metadata": {},
   "outputs": [],
   "source": [
    "# df_final = pd.concat([df_final_sessions, df_final_pktdir, df_final_pktlen], axis=1)"
   ]
  },
  {
   "cell_type": "code",
   "execution_count": 25,
   "id": "36d53086",
   "metadata": {},
   "outputs": [
    {
     "data": {
      "text/plain": [
       "['proto',\n",
       " 'packets_count',\n",
       " 'f_pkts_num',\n",
       " 'min_fiat',\n",
       " 'min_biat',\n",
       " 'flow_packets_per_second',\n",
       " 'f_min_pkt_size',\n",
       " 'f_max_pkt_size',\n",
       " 'b_min_pkt_size',\n",
       " 'b_max_pkt_size',\n",
       " 'b_mean_pkt_size',\n",
       " 'diag_step_fiat',\n",
       " 'diag_step_biat',\n",
       " 'diag_steps',\n",
       " 'tcp_syn_count',\n",
       " 'tcp_ack_count',\n",
       " 'tcp_rst_count',\n",
       " 'tcp_fin_count',\n",
       " 'tcp_urg_count',\n",
       " 'tcp_retr_count',\n",
       " 'pktiat_0',\n",
       " 'pktiat_1',\n",
       " 'pktiat_2',\n",
       " 'pktiat_3',\n",
       " 'pktiat_4',\n",
       " 'pktiat_7',\n",
       " 'pktiat_8',\n",
       " 'pktiat_9',\n",
       " 'pktlen_1',\n",
       " 'pktlen_8',\n",
       " 'type',\n",
       " 'total_fiat',\n",
       " 'pktlen_5',\n",
       " 'pktlen_6',\n",
       " 'pktlen_7',\n",
       " 'pktlen_9',\n",
       " 'tcp_psh_count',\n",
       " 'pktiat_5',\n",
       " 'pktlen_0',\n",
       " 'pktlen_4']"
      ]
     },
     "execution_count": 25,
     "metadata": {},
     "output_type": "execute_result"
    }
   ],
   "source": [
    "df_final_sessions.columns.to_list()"
   ]
  },
  {
   "cell_type": "markdown",
   "id": "22c26665",
   "metadata": {},
   "source": [
    "## Save"
   ]
  },
  {
   "cell_type": "code",
   "execution_count": 26,
   "id": "1d183325",
   "metadata": {},
   "outputs": [
    {
     "name": "stdout",
     "output_type": "stream",
     "text": [
      "File saved: df_final.csv\n"
     ]
    }
   ],
   "source": [
    "df_final_sessions.to_csv(df_final_filename, index=False, header=True)\n",
    "\n",
    "print(\"File saved:\", df_final_filename)"
   ]
  },
  {
   "cell_type": "code",
   "execution_count": null,
   "id": "a0769f8f-0049-4149-bbf2-4eaef9f09007",
   "metadata": {},
   "outputs": [],
   "source": []
  }
 ],
 "metadata": {
  "kernelspec": {
   "display_name": "Python 3 (ipykernel)",
   "language": "python",
   "name": "python3"
  },
  "language_info": {
   "codemirror_mode": {
    "name": "ipython",
    "version": 3
   },
   "file_extension": ".py",
   "mimetype": "text/x-python",
   "name": "python",
   "nbconvert_exporter": "python",
   "pygments_lexer": "ipython3",
   "version": "3.9.13"
  }
 },
 "nbformat": 4,
 "nbformat_minor": 5
}
