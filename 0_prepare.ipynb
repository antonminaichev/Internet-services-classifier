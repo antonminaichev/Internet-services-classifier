{
 "cells": [
  {
   "cell_type": "code",
   "execution_count": 1,
   "id": "232a762d",
   "metadata": {
    "slideshow": {
     "slide_type": ""
    },
    "tags": []
   },
   "outputs": [
    {
     "name": "stdout",
     "output_type": "stream",
     "text": [
      "Pandas version:  1.4.4\n"
     ]
    }
   ],
   "source": [
    "import pandas as pd\n",
    "import numpy as np\n",
    "import os\n",
    "import ast\n",
    "from multiprocessing import Pool\n",
    "\n",
    "print(\"Pandas version: \", pd.__version__)"
   ]
  },
  {
   "cell_type": "markdown",
   "id": "d3d5df23",
   "metadata": {},
   "source": [
    "## Read CSV with sessions"
   ]
  },
  {
   "cell_type": "code",
   "execution_count": 2,
   "id": "061bf405",
   "metadata": {
    "slideshow": {
     "slide_type": ""
    },
    "tags": []
   },
   "outputs": [
    {
     "ename": "NameError",
     "evalue": "name 'df_list' is not defined",
     "output_type": "error",
     "traceback": [
      "\u001b[1;31m---------------------------------------------------------------------------\u001b[0m",
      "\u001b[1;31mNameError\u001b[0m                                 Traceback (most recent call last)",
      "\u001b[1;32m~\\AppData\\Local\\Temp\\ipykernel_18456\\2759313591.py\u001b[0m in \u001b[0;36m<module>\u001b[1;34m\u001b[0m\n\u001b[0;32m      2\u001b[0m \u001b[1;33m\u001b[0m\u001b[0m\n\u001b[0;32m      3\u001b[0m \u001b[1;33m\u001b[0m\u001b[0m\n\u001b[1;32m----> 4\u001b[1;33m \u001b[1;32mif\u001b[0m \u001b[0mlen\u001b[0m\u001b[1;33m(\u001b[0m\u001b[0mdf_list\u001b[0m\u001b[1;33m)\u001b[0m \u001b[1;33m>\u001b[0m \u001b[1;36m1\u001b[0m\u001b[1;33m:\u001b[0m\u001b[1;33m\u001b[0m\u001b[1;33m\u001b[0m\u001b[0m\n\u001b[0m\u001b[0;32m      5\u001b[0m     \u001b[0mdf_sessions\u001b[0m \u001b[1;33m=\u001b[0m \u001b[0mpd\u001b[0m\u001b[1;33m.\u001b[0m\u001b[0mconcat\u001b[0m\u001b[1;33m(\u001b[0m\u001b[0mdf_list\u001b[0m\u001b[1;33m)\u001b[0m\u001b[1;33m\u001b[0m\u001b[1;33m\u001b[0m\u001b[0m\n\u001b[0;32m      6\u001b[0m \u001b[1;32melse\u001b[0m\u001b[1;33m:\u001b[0m\u001b[1;33m\u001b[0m\u001b[1;33m\u001b[0m\u001b[0m\n",
      "\u001b[1;31mNameError\u001b[0m: name 'df_list' is not defined"
     ]
    }
   ],
   "source": [
    "# Загрузка файлов и объединение в один датафрейм.\n",
    "\n",
    "\n",
    "if len(df_list) > 1:\n",
    "    df_sessions = pd.concat(df_list)\n",
    "else:\n",
    "    df_sessions = df_list[0]\n",
    "\n",
    "print(df_sessions.shape)"
   ]
  },
  {
   "cell_type": "code",
   "execution_count": 4,
   "id": "130d01d6",
   "metadata": {
    "scrolled": true
   },
   "outputs": [],
   "source": [
    "#print(\"First 5 rows:\")\n",
    "#df_sessions.head()"
   ]
  },
  {
   "cell_type": "markdown",
   "id": "02bb23e8",
   "metadata": {},
   "source": [
    "## Проверки и очистка"
   ]
  },
  {
   "cell_type": "code",
   "execution_count": 5,
   "id": "e9dd7459",
   "metadata": {},
   "outputs": [
    {
     "name": "stdout",
     "output_type": "stream",
     "text": [
      "Droping rows with empty values...\n"
     ]
    },
    {
     "ename": "NameError",
     "evalue": "name 'df_sessions' is not defined",
     "output_type": "error",
     "traceback": [
      "\u001b[0;31m---------------------------------------------------------------------------\u001b[0m",
      "\u001b[0;31mNameError\u001b[0m                                 Traceback (most recent call last)",
      "Cell \u001b[0;32mIn[5], line 4\u001b[0m\n\u001b[1;32m      1\u001b[0m \u001b[39m# Удаление строк с пустыми значениями.\u001b[39;00m\n\u001b[1;32m      3\u001b[0m \u001b[39mprint\u001b[39m(\u001b[39m\"\u001b[39m\u001b[39mDroping rows with empty values...\u001b[39m\u001b[39m\"\u001b[39m)\n\u001b[0;32m----> 4\u001b[0m df_sessions\u001b[39m.\u001b[39mdropna(inplace\u001b[39m=\u001b[39m\u001b[39mTrue\u001b[39;00m)\n\u001b[1;32m      5\u001b[0m \u001b[39mprint\u001b[39m(\u001b[39m\"\u001b[39m\u001b[39mShape:\u001b[39m\u001b[39m\"\u001b[39m, df_sessions\u001b[39m.\u001b[39mshape)\n\u001b[1;32m      6\u001b[0m \u001b[39m# print(\"Deleted: \", current_shape[0] - df_sessions.shape[0])\u001b[39;00m\n",
      "\u001b[0;31mNameError\u001b[0m: name 'df_sessions' is not defined"
     ]
    }
   ],
   "source": [
    "# Удаление строк с пустыми значениями.\n",
    "\n",
    "print(\"Droping rows with empty values...\")\n",
    "df_sessions.dropna(inplace=True)\n",
    "print(\"Shape:\", df_sessions.shape)\n",
    "# print(\"Deleted: \", current_shape[0] - df_sessions.shape[0])"
   ]
  },
  {
   "cell_type": "code",
   "execution_count": null,
   "id": "982163f4",
   "metadata": {},
   "outputs": [
    {
     "name": "stdout",
     "output_type": "stream",
     "text": [
      "Number of empty values:\n",
      "src_ip                     0\n",
      "sport                      0\n",
      "dst_ip                     0\n",
      "dport                      0\n",
      "proto                      0\n",
      "packets_count              0\n",
      "start_time                 0\n",
      "end_time                   0\n",
      "duration                   0\n",
      "total_fiat                 0\n",
      "total_biat                 0\n",
      "iat_list                   0\n",
      "direction_list             0\n",
      "pkt_len_list               0\n",
      "f_pkts_num                 0\n",
      "b_pkts_num                 0\n",
      "min_fiat                   0\n",
      "max_fiat                   0\n",
      "min_biat                   0\n",
      "max_biat                   0\n",
      "mean_fiat                  0\n",
      "mean_biat                  0\n",
      "flow_packets_per_second    0\n",
      "flow_bytes_per_second      0\n",
      "f_min_pkt_size             0\n",
      "f_max_pkt_size             0\n",
      "f_mean_pkt_size            0\n",
      "b_min_pkt_size             0\n",
      "b_max_pkt_size             0\n",
      "b_mean_pkt_size            0\n",
      "is_closed                  0\n",
      "last_packet_time           0\n",
      "diag_fiat                  0\n",
      "diag_step_fiat             0\n",
      "diag_biat                  0\n",
      "diag_step_biat             0\n",
      "diag_total                 0\n",
      "diag_steps                 0\n",
      "tcp_syn_count              0\n",
      "tcp_ack_count              0\n",
      "tcp_rst_count              0\n",
      "tcp_psh_count              0\n",
      "tcp_fin_count              0\n",
      "tcp_urg_count              0\n",
      "tcp_retr_count             0\n",
      "ip_ttl_list                0\n",
      "tcp_win_list               0\n",
      "f_iat_list                 0\n",
      "b_iat_list                 0\n",
      "tcp_hs_skipped             0\n",
      "dtype: int64\n",
      "Shape: (2335, 50)\n"
     ]
    }
   ],
   "source": [
    "# Проверка на пустые значения.\n",
    "\n",
    "print(\"Number of empty values:\")\n",
    "#print(df_sessions.isna().sum())\n",
    "current_shape = df_sessions.shape\n",
    "#print(\"Shape:\", current_shape)"
   ]
  },
  {
   "cell_type": "code",
   "execution_count": null,
   "id": "38891c9a",
   "metadata": {},
   "outputs": [
    {
     "name": "stdout",
     "output_type": "stream",
     "text": [
      "Correcting data types...\n"
     ]
    }
   ],
   "source": [
    "# Корректируем тип данных в некоторых столбцах.\n",
    "\n",
    "print(\"Correcting data types...\")\n",
    "\n",
    "df_sessions['sport'] = df_sessions['sport'].astype('int64')\n",
    "df_sessions['dport'] = df_sessions['dport'].astype('int64')\n",
    "df_sessions['proto'] = df_sessions['proto'].astype('int64')\n",
    "df_sessions['f_min_pkt_size'] = df_sessions['f_min_pkt_size'].astype('int64')\n",
    "df_sessions['b_min_pkt_size'] = df_sessions['b_min_pkt_size'].astype('int64')"
   ]
  },
  {
   "cell_type": "code",
   "execution_count": null,
   "id": "ea3cd3d5",
   "metadata": {},
   "outputs": [
    {
     "name": "stdout",
     "output_type": "stream",
     "text": [
      "TCP packets (handshake only) (0, 50)\n",
      "UDP sessions with only 1 packet (0, 50)\n"
     ]
    }
   ],
   "source": [
    "# Проверяем сколько сессий в которых только 1 пакет для UDP и только Handshake (или не законченный handshake) для TCP.\n",
    "\n",
    "print('TCP packets (handshake only)', df_sessions[(df_sessions.packets_count <= 3) & (df_sessions.proto == 6)].shape)\n",
    "print('UDP sessions with only 1 packet', df_sessions.query('packets_count == 1 & proto == 17').shape)"
   ]
  },
  {
   "cell_type": "code",
   "execution_count": null,
   "id": "b1c3e147",
   "metadata": {},
   "outputs": [
    {
     "name": "stdout",
     "output_type": "stream",
     "text": [
      "Droping above sessions...\n"
     ]
    }
   ],
   "source": [
    "# Собственно сам дроп сессий.\n",
    "\n",
    "print(\"Droping above sessions...\")\n",
    "df_sessions.reset_index(drop=True, inplace=True)\n",
    "df_sessions.drop(index=df_sessions.query('packets_count <= 3 & proto == 6').index, inplace=True)\n",
    "df_sessions.drop(index=df_sessions.query('packets_count == 1 & proto == 17').index, inplace=True)"
   ]
  },
  {
   "cell_type": "code",
   "execution_count": null,
   "id": "83b24b70",
   "metadata": {},
   "outputs": [
    {
     "name": "stdout",
     "output_type": "stream",
     "text": [
      "Making arrays in columns...\n"
     ]
    },
    {
     "data": {
      "text/plain": [
       "(2335, 50)"
      ]
     },
     "execution_count": 14,
     "metadata": {},
     "output_type": "execute_result"
    }
   ],
   "source": [
    "# Делаем массив в колонках с данными для графиков.\n",
    "\n",
    "print(\"Making arrays in columns...\")\n",
    "\n",
    "df_sessions['diag_fiat'] = df_sessions['diag_fiat'].apply(ast.literal_eval)\n",
    "df_sessions['diag_biat'] = df_sessions['diag_biat'].apply(ast.literal_eval)\n",
    "df_sessions['diag_total'] = df_sessions['diag_total'].apply(ast.literal_eval)\n",
    "df_sessions['iat_list'] = df_sessions['iat_list'].apply(ast.literal_eval)\n",
    "df_sessions['pkt_len_list'] = df_sessions['pkt_len_list'].apply(ast.literal_eval)\n",
    "df_sessions['direction_list'] = df_sessions['direction_list'].apply(ast.literal_eval)\n",
    "df_sessions['ip_ttl_list'] = df_sessions['ip_ttl_list'].apply(ast.literal_eval)\n",
    "df_sessions['tcp_win_list'] = df_sessions['tcp_win_list'].apply(ast.literal_eval)\n",
    "\n",
    "df_sessions.shape"
   ]
  },
  {
   "cell_type": "code",
   "execution_count": null,
   "id": "2ef9febc",
   "metadata": {},
   "outputs": [
    {
     "name": "stdout",
     "output_type": "stream",
     "text": [
      "iat_list: count                                                  2335\n",
      "unique                                                 2335\n",
      "top       (0.0, 0.30533599853515625, 3.910064697265625e-...\n",
      "freq                                                      1\n",
      "Name: iat_list, dtype: object\n",
      "len_list: count                                                2335\n",
      "unique                                                 65\n",
      "top       (74, 66, 54, 571, 3190, 54, 134, 133, 133, 269)\n",
      "freq                                                  481\n",
      "Name: pkt_len_list, dtype: object\n",
      "dir_list: count                                   2335\n",
      "unique                                    20\n",
      "top       (1, -1, 1, 1, -1, 1, 1, -1, -1, 1)\n",
      "freq                                    1250\n",
      "Name: direction_list, dtype: object\n",
      "ip_ttl_list: count                                         2335\n",
      "unique                                          44\n",
      "top       (64, 99, 64, 64, 99, 64, 64, 99, 99, 64)\n",
      "freq                                           475\n",
      "Name: ip_ttl_list, dtype: object\n",
      "tcp_win_list: count                                                  2335\n",
      "unique                                                   65\n",
      "top       (64240, 65535, 502, 502, 1022, 489, 501, 1021,...\n",
      "freq                                                    555\n",
      "Name: tcp_win_list, dtype: object\n"
     ]
    }
   ],
   "source": [
    "print('iat_list:', df_sessions['iat_list'].describe())\n",
    "print('len_list:', df_sessions['pkt_len_list'].describe())\n",
    "print('dir_list:', df_sessions['direction_list'].describe())\n",
    "print('ip_ttl_list:', df_sessions['ip_ttl_list'].describe())\n",
    "print('tcp_win_list:', df_sessions['tcp_win_list'].describe())"
   ]
  },
  {
   "cell_type": "code",
   "execution_count": null,
   "id": "f09af7d5",
   "metadata": {},
   "outputs": [
    {
     "name": "stdout",
     "output_type": "stream",
     "text": [
      "iat_list_minlen: 10\n",
      "iat_list_maxlen: 10\n",
      "len_list_minlen: 10\n",
      "len_list_maxlen: 10\n",
      "dir_list_minlen: 10\n",
      "dir_list_maxlen: 10\n",
      "ip_ttl_list_minlen: 10\n",
      "ip_ttl_list_maxlen: 10\n",
      "tcp_win_list_minlen: 10\n",
      "tcp_win_list_maxlen: 10\n"
     ]
    }
   ],
   "source": [
    "iat_list_minlen = df_sessions['iat_list'].apply(lambda x: len(x)).min()\n",
    "iat_list_maxlen = df_sessions['iat_list'].apply(lambda x: len(x)).max()\n",
    "len_list_minlen = df_sessions['pkt_len_list'].apply(lambda x: len(x)).min()\n",
    "len_list_maxlen = df_sessions['pkt_len_list'].apply(lambda x: len(x)).max()\n",
    "dir_list_minlen = df_sessions['direction_list'].apply(lambda x: len(x)).min()\n",
    "dir_list_maxlen = df_sessions['direction_list'].apply(lambda x: len(x)).max()\n",
    "ip_ttl_list_minlen = df_sessions['ip_ttl_list'].apply(lambda x: len(x)).min()\n",
    "ip_ttl_list_maxlen = df_sessions['ip_ttl_list'].apply(lambda x: len(x)).max()\n",
    "tcp_win_list_minlen = df_sessions['tcp_win_list'].apply(lambda x: len(x)).min()\n",
    "tcp_win_list_maxlen = df_sessions['tcp_win_list'].apply(lambda x: len(x)).max()\n",
    "\n",
    "print('iat_list_minlen:', iat_list_minlen)\n",
    "print('iat_list_maxlen:', iat_list_maxlen)\n",
    "print('len_list_minlen:', len_list_minlen)\n",
    "print('len_list_maxlen:', len_list_maxlen)\n",
    "print('dir_list_minlen:', dir_list_minlen)\n",
    "print('dir_list_maxlen:', dir_list_maxlen)\n",
    "print('ip_ttl_list_minlen:', ip_ttl_list_minlen)\n",
    "print('ip_ttl_list_maxlen:', ip_ttl_list_maxlen)\n",
    "print('tcp_win_list_minlen:', tcp_win_list_minlen)\n",
    "print('tcp_win_list_maxlen:', tcp_win_list_maxlen)"
   ]
  },
  {
   "cell_type": "code",
   "execution_count": null,
   "id": "2ba3a732",
   "metadata": {},
   "outputs": [
    {
     "data": {
      "text/plain": [
       "Series([], Name: packets_count, dtype: int64)"
      ]
     },
     "execution_count": 17,
     "metadata": {},
     "output_type": "execute_result"
    }
   ],
   "source": [
    "df_sessions[df_sessions['pkt_len_list'].str.len() > 1024]['packets_count'].sort_values()"
   ]
  },
  {
   "cell_type": "code",
   "execution_count": null,
   "id": "c4e43a5e",
   "metadata": {},
   "outputs": [
    {
     "data": {
      "text/plain": [
       "10"
      ]
     },
     "execution_count": 18,
     "metadata": {},
     "output_type": "execute_result"
    }
   ],
   "source": [
    "len(df_sessions['pkt_len_list'][366])"
   ]
  },
  {
   "cell_type": "code",
   "execution_count": null,
   "id": "f5e38c32",
   "metadata": {},
   "outputs": [],
   "source": [
    "df_sessions.reset_index(drop=True, inplace=True)"
   ]
  },
  {
   "cell_type": "code",
   "execution_count": null,
   "id": "d804004d",
   "metadata": {},
   "outputs": [
    {
     "name": "stdout",
     "output_type": "stream",
     "text": [
      "Unpacking arrays in columns ... (may take up to 10 minutes)\n"
     ]
    }
   ],
   "source": [
    "# Разворачиваем массивы в колонках с данными для диаграмм в отдельные колонки.\n",
    "\n",
    "print(\"Unpacking arrays in columns ... (may take up to 10 minutes)\")\n",
    "\n",
    "df_pktiat = pd.DataFrame(df_sessions['iat_list'].to_list(), columns=[f'pktiat_{i}' for i in np.arange(0, iat_list_maxlen, 1)])\n",
    "df_pktlen = pd.DataFrame(df_sessions['pkt_len_list'].to_list(), columns=[f'pktlen_{i}' for i in np.arange(0, len_list_maxlen, 1)])\n",
    "df_pktdir = pd.DataFrame(df_sessions['direction_list'].to_list(), columns=[f'pktdir_{i}' for i in np.arange(0, dir_list_maxlen, 1)])\n",
    "df_ip_ttl = pd.DataFrame(df_sessions['ip_ttl_list'].to_list(), columns=[f'ip_ttl_{i}' for i in np.arange(0, ip_ttl_list_maxlen, 1)])\n",
    "df_tcp_win = pd.DataFrame(df_sessions['tcp_win_list'].to_list(), columns=[f'tcp_win_{i}' for i in np.arange(0, tcp_win_list_maxlen, 1)])\n",
    "\n",
    "df_sessions = pd.concat([\n",
    "        df_sessions,\n",
    "        df_pktiat,\n",
    "        df_pktlen,\n",
    "        #df_pktdir,\n",
    "        #df_ip_ttl,\n",
    "        #df_tcp_win,\n",
    "        ], axis=1)"
   ]
  },
  {
   "cell_type": "code",
   "execution_count": null,
   "id": "ce7351e1",
   "metadata": {},
   "outputs": [
    {
     "name": "stdout",
     "output_type": "stream",
     "text": [
      "df_sessions.shape: (2335, 100)\n",
      "df_pktiat.shape: (2335, 10)\n",
      "df_pktlen.shape: (2335, 10)\n",
      "df_pktdir.shape: (2335, 10)\n",
      "df_ip_ttl.shape: (2335, 10)\n",
      "df_tcp_win.shape: (2335, 10)\n"
     ]
    }
   ],
   "source": [
    "print('df_sessions.shape:', df_sessions.shape)\n",
    "print('df_pktiat.shape:', df_pktiat.shape)\n",
    "print('df_pktlen.shape:', df_pktlen.shape)\n",
    "print('df_pktdir.shape:', df_pktdir.shape)\n",
    "print('df_ip_ttl.shape:', df_ip_ttl.shape)\n",
    "print('df_tcp_win.shape:', df_tcp_win.shape)"
   ]
  },
  {
   "cell_type": "code",
   "execution_count": null,
   "id": "56b8184a",
   "metadata": {},
   "outputs": [
    {
     "name": "stdout",
     "output_type": "stream",
     "text": [
      "Dropping columns with arrays...\n",
      "df_sessions.shape: (2335, 95)\n"
     ]
    }
   ],
   "source": [
    "print('Dropping columns with arrays...')\n",
    "\n",
    "df_sessions.drop(columns=['iat_list', 'pkt_len_list', 'direction_list', 'ip_ttl_list', 'tcp_win_list'], axis=1, inplace=True)\n",
    "print('df_sessions.shape:', df_sessions.shape)"
   ]
  },
  {
   "cell_type": "markdown",
   "id": "79f43281",
   "metadata": {},
   "source": [
    "## Разведочный анализ данных (EDA)"
   ]
  },
  {
   "cell_type": "code",
   "execution_count": null,
   "id": "8f3014ef",
   "metadata": {},
   "outputs": [
    {
     "data": {
      "text/plain": [
       "['src_ip',\n",
       " 'sport',\n",
       " 'dst_ip',\n",
       " 'dport',\n",
       " 'proto',\n",
       " 'packets_count',\n",
       " 'start_time',\n",
       " 'end_time',\n",
       " 'duration',\n",
       " 'total_fiat',\n",
       " 'total_biat',\n",
       " 'f_pkts_num',\n",
       " 'b_pkts_num',\n",
       " 'min_fiat',\n",
       " 'max_fiat',\n",
       " 'min_biat',\n",
       " 'max_biat',\n",
       " 'mean_fiat',\n",
       " 'mean_biat',\n",
       " 'flow_packets_per_second',\n",
       " 'flow_bytes_per_second',\n",
       " 'f_min_pkt_size',\n",
       " 'f_max_pkt_size',\n",
       " 'f_mean_pkt_size',\n",
       " 'b_min_pkt_size',\n",
       " 'b_max_pkt_size',\n",
       " 'b_mean_pkt_size',\n",
       " 'is_closed',\n",
       " 'last_packet_time',\n",
       " 'diag_fiat',\n",
       " 'diag_step_fiat',\n",
       " 'diag_biat',\n",
       " 'diag_step_biat',\n",
       " 'diag_total',\n",
       " 'diag_steps',\n",
       " 'tcp_syn_count',\n",
       " 'tcp_ack_count',\n",
       " 'tcp_rst_count',\n",
       " 'tcp_psh_count',\n",
       " 'tcp_fin_count',\n",
       " 'tcp_urg_count',\n",
       " 'tcp_retr_count',\n",
       " 'f_iat_list',\n",
       " 'b_iat_list',\n",
       " 'tcp_hs_skipped',\n",
       " 'pktiat_0',\n",
       " 'pktiat_1',\n",
       " 'pktiat_2',\n",
       " 'pktiat_3',\n",
       " 'pktiat_4',\n",
       " 'pktiat_5',\n",
       " 'pktiat_6',\n",
       " 'pktiat_7',\n",
       " 'pktiat_8',\n",
       " 'pktiat_9',\n",
       " 'pktlen_0',\n",
       " 'pktlen_1',\n",
       " 'pktlen_2',\n",
       " 'pktlen_3',\n",
       " 'pktlen_4',\n",
       " 'pktlen_5',\n",
       " 'pktlen_6',\n",
       " 'pktlen_7',\n",
       " 'pktlen_8',\n",
       " 'pktlen_9',\n",
       " 'pktdir_0',\n",
       " 'pktdir_1',\n",
       " 'pktdir_2',\n",
       " 'pktdir_3',\n",
       " 'pktdir_4',\n",
       " 'pktdir_5',\n",
       " 'pktdir_6',\n",
       " 'pktdir_7',\n",
       " 'pktdir_8',\n",
       " 'pktdir_9',\n",
       " 'ip_ttl_0',\n",
       " 'ip_ttl_1',\n",
       " 'ip_ttl_2',\n",
       " 'ip_ttl_3',\n",
       " 'ip_ttl_4',\n",
       " 'ip_ttl_5',\n",
       " 'ip_ttl_6',\n",
       " 'ip_ttl_7',\n",
       " 'ip_ttl_8',\n",
       " 'ip_ttl_9',\n",
       " 'tcp_win_0',\n",
       " 'tcp_win_1',\n",
       " 'tcp_win_2',\n",
       " 'tcp_win_3',\n",
       " 'tcp_win_4',\n",
       " 'tcp_win_5',\n",
       " 'tcp_win_6',\n",
       " 'tcp_win_7',\n",
       " 'tcp_win_8',\n",
       " 'tcp_win_9']"
      ]
     },
     "execution_count": 23,
     "metadata": {},
     "output_type": "execute_result"
    }
   ],
   "source": [
    "# Проверим что осталось и как с этим быть\n",
    "print(df_sessions.columns.to_list())"
   ]
  },
  {
   "cell_type": "markdown",
   "id": "1f062266",
   "metadata": {},
   "source": [
    "### Проверка на выбросы"
   ]
  },
  {
   "cell_type": "code",
   "execution_count": null,
   "id": "91ba56c3",
   "metadata": {},
   "outputs": [],
   "source": [
    "# Извлечем всечисловые признаки\n",
    "num_columns = ['int16','int32','int64','float16','float32','float64']\n",
    "numerical_columns = list(df_sessions.select_dtypes(include=num_columns).columns)\n",
    "df_sessions_numerical = df_sessions[numerical_columns]\n",
    " "
   ]
  },
  {
   "cell_type": "code",
   "execution_count": null,
   "id": "fb15a4cc",
   "metadata": {},
   "outputs": [
    {
     "name": "stderr",
     "output_type": "stream",
     "text": [
      "/tmp/ipykernel_16900/1764849278.py:2: SettingWithCopyWarning: \n",
      "A value is trying to be set on a copy of a slice from a DataFrame\n",
      "\n",
      "See the caveats in the documentation: https://pandas.pydata.org/pandas-docs/stable/user_guide/indexing.html#returning-a-view-versus-a-copy\n",
      "  df_sessions_numerical.dropna(axis=1,inplace=True)\n"
     ]
    }
   ],
   "source": [
    "# Удалим NaN\n",
    "df_sessions_numerical.dropna(axis=1,inplace=True)"
   ]
  },
  {
   "cell_type": "code",
   "execution_count": null,
   "id": "57f26f89",
   "metadata": {},
   "outputs": [],
   "source": [
    "# Мат. паеты\n",
    "import numpy as np\n",
    "import scipy.stats as stats"
   ]
  },
  {
   "cell_type": "code",
   "execution_count": null,
   "id": "65cd41a5",
   "metadata": {},
   "outputs": [],
   "source": [
    "# Определение выбросов по методу Гиббса\n",
    "\n",
    "def grubbs_test(x):\n",
    "    n = len(x)\n",
    "    mean_x = np.mean(x)\n",
    "    sd_x = np.std(x)\n",
    "    numerator = max(abs(x-mean_x))\n",
    "    g_calculated = numerator/sd_x\n",
    "    # print(\"Grubbs Calculated Value\", x, g_calculated)\n",
    "    t_value = stats.t.ppf(1 - 0.05 / (2 * n), n - 2)\n",
    "    g_critical = ((n - 1) * np.sqrt(np.square(t_value))) / (np.sqrt(n) * np.sqrt(n - 2 + np.square(t_value)))\n",
    "    # print(\"Grubbs Critical Value:\",g_critical)\n",
    "    if g_critical > g_calculated:\n",
    "        # print(\"Из теста Гиббса мы видим, что вычисленное значение меньше критического значения, принимаем нулевую гипотезу и делаем вывод об отсутствии выбросов\\n\")\n",
    "        return False\n",
    "    else:\n",
    "        # print(\"Из теста Гиббса мы видим, что вычисленное значение больше критического значения, отклоняем нулевую гипотезу и делаем вывод, что есть выбросы\\n\")\n",
    "        return True\n"
   ]
  },
  {
   "cell_type": "code",
   "execution_count": null,
   "id": "52effbf6",
   "metadata": {},
   "outputs": [],
   "source": [
    "def get_outliers(in_df):\n",
    "    outliers_features = []\n",
    "    for i in range(len(in_df.columns)):\n",
    "        if grubbs_test(in_df[in_df.columns[i]]):\n",
    "            outliers_features.append(in_df.columns[i]) \n",
    "\n",
    "    print(\"Признаки, содержащие выбросы:\", outliers_features)\n",
    "    print(\"Всего:\", len(outliers_features))\n",
    "    return outliers_features\n"
   ]
  },
  {
   "cell_type": "code",
   "execution_count": null,
   "id": "bcd1ea1a",
   "metadata": {},
   "outputs": [],
   "source": [
    "# Функция удаления выбросов (если это надо):\n",
    "# [Параметры]\n",
    "#   in_df - dataframe для удаления выбросов\n",
    "#   in_feature - признак, выбросы которого удаляются\n",
    "# [Выход]\n",
    "#   df_IQR - dataframe с удаленными выбросами признака\n",
    "def drop_outliers(in_df, in_feature):\n",
    "    Q1 =  in_df[in_feature].quantile(0.25)\n",
    "    Q3 = in_df[in_feature].quantile(0.75)\n",
    "    IQR = Q3 - Q1\n",
    "    df_IQR = in_df[(in_df[in_feature] > Q1) & (in_df[in_feature] < Q3)]\n",
    "    df_IQR.boxplot(column=in_feature)\n",
    "    return df_IQR"
   ]
  },
  {
   "cell_type": "code",
   "execution_count": null,
   "id": "91019785",
   "metadata": {},
   "outputs": [
    {
     "name": "stderr",
     "output_type": "stream",
     "text": [
      "/tmp/ipykernel_16900/2671603252.py:8: RuntimeWarning: invalid value encountered in double_scalars\n",
      "  g_calculated = numerator/sd_x\n"
     ]
    },
    {
     "name": "stdout",
     "output_type": "stream",
     "text": [
      "Признаки, содержащие выбросы: ['proto', 'packets_count', 'f_pkts_num', 'b_pkts_num', 'min_fiat', 'max_fiat', 'min_biat', 'max_biat', 'mean_biat', 'b_mean_pkt_size', 'diag_step_fiat', 'diag_steps', 'tcp_syn_count', 'tcp_ack_count', 'tcp_rst_count', 'tcp_psh_count', 'tcp_fin_count', 'tcp_urg_count', 'tcp_retr_count', 'pktiat_0', 'pktiat_1', 'pktiat_2', 'pktiat_3', 'pktiat_5', 'pktiat_6', 'pktiat_7', 'pktiat_8', 'pktiat_9', 'pktlen_0', 'pktlen_3', 'pktlen_5', 'pktlen_6', 'pktlen_7', 'pktlen_8', 'pktlen_9', 'pktdir_0', 'pktdir_1', 'pktdir_2', 'pktdir_3', 'pktdir_4', 'ip_ttl_0', 'ip_ttl_2', 'ip_ttl_3']\n",
      "Всего: 43\n",
      "packets_count\n"
     ]
    },
    {
     "data": {
      "image/png": "[encoded data removed]",
      "text/plain": [
       "<Figure size 432x288 with 1 Axes>"
      ]
     },
     "metadata": {
      "needs_background": "light"
     },
     "output_type": "display_data"
    }
   ],
   "source": [
    "outliers = get_outliers(df_sessions_numerical)\n",
    "# df_ohne_outliers = drop_outliers(df_sessions_numerical, outliers[1])"
   ]
  },
  {
   "cell_type": "markdown",
   "id": "0283a511",
   "metadata": {},
   "source": [
    "### Корреляционный анализ"
   ]
  },
  {
   "cell_type": "code",
   "execution_count": null,
   "id": "bef29529",
   "metadata": {},
   "outputs": [],
   "source": [
    "import matplotlib.pyplot as plt\n",
    "import seaborn as sns "
   ]
  },
  {
   "cell_type": "code",
   "execution_count": null,
   "id": "bec0eee9-0ca3-4d9b-9f68-051466b8d30f",
   "metadata": {
    "scrolled": true
   },
   "outputs": [],
   "source": [
    "# Функция удаления выбросов (если это надо):\n",
    "# [Параметры]\n",
    "#   in_df - dataframe для проверки корреляции\n",
    "#   in_columns - колонки, среди которых ищется корреляция\n",
    "# [Выход]\n",
    "#   correlated_features - коррелированные признаки\n",
    "def get_correlated_features(in_f, in_columns=[]):\n",
    "    correlated_features = []\n",
    "    if len(in_columns):\n",
    "        in_f = in_f[in_columns]\n",
    "    correlation_matrix = in_f.corr()\n",
    "    for i in range(len(correlation_matrix.columns)):\n",
    "        for j in range(i):\n",
    "            if abs(correlation_matrix.iloc[i,j]) > 0.7:\n",
    "                colname = correlation_matrix.columns[i]\n",
    "                correlated_features.append(colname)\n",
    "    print(correlated_features)\n",
    "    return(correlated_features, correlation_matrix)"
   ]
  },
  {
   "cell_type": "code",
   "execution_count": null,
   "id": "332a78c3",
   "metadata": {},
   "outputs": [
    {
     "name": "stdout",
     "output_type": "stream",
     "text": [
      "['end_time', 'total_fiat', 'total_biat', 'total_biat', 'b_pkts_num', 'max_fiat', 'max_fiat', 'max_fiat', 'max_biat', 'max_biat', 'max_biat', 'max_biat', 'mean_fiat', 'mean_fiat', 'mean_fiat', 'mean_fiat', 'mean_fiat', 'mean_biat', 'mean_biat', 'mean_biat', 'mean_biat', 'mean_biat', 'mean_biat', 'flow_packets_per_second', 'flow_packets_per_second', 'flow_packets_per_second', 'flow_packets_per_second', 'flow_packets_per_second', 'flow_packets_per_second', 'flow_packets_per_second', 'flow_bytes_per_second', 'flow_bytes_per_second', 'flow_bytes_per_second', 'flow_bytes_per_second', 'flow_bytes_per_second', 'flow_bytes_per_second', 'flow_bytes_per_second', 'flow_bytes_per_second', 'f_min_pkt_size', 'f_min_pkt_size', 'f_min_pkt_size', 'f_min_pkt_size', 'f_min_pkt_size', 'f_max_pkt_size', 'f_max_pkt_size', 'f_max_pkt_size', 'f_max_pkt_size', 'f_max_pkt_size', 'f_max_pkt_size', 'b_min_pkt_size', 'b_min_pkt_size', 'b_min_pkt_size', 'b_min_pkt_size', 'b_min_pkt_size', 'b_min_pkt_size', 'b_min_pkt_size', 'b_mean_pkt_size', 'b_mean_pkt_size', 'last_packet_time', 'last_packet_time', 'tcp_ack_count', 'pktiat_1', 'pktiat_1', 'pktiat_1', 'pktiat_1', 'pktiat_1', 'pktiat_1', 'pktiat_1', 'pktiat_1', 'pktiat_1', 'pktiat_2', 'pktiat_2', 'pktiat_4', 'pktiat_4', 'pktiat_4', 'pktiat_4', 'pktiat_4', 'pktiat_4', 'pktiat_4', 'pktiat_4', 'pktiat_4', 'pktiat_4', 'pktiat_4', 'pktiat_4', 'pktiat_7', 'pktlen_1', 'pktlen_1', 'pktlen_1', 'pktlen_1', 'pktlen_1', 'pktlen_1', 'pktlen_2', 'pktlen_2', 'pktlen_2', 'pktlen_2', 'pktlen_2', 'pktlen_2', 'pktlen_2', 'pktlen_2', 'pktlen_3', 'pktlen_3', 'pktlen_3', 'pktlen_4', 'pktlen_5', 'pktlen_5', 'pktdir_1', 'pktdir_1', 'pktdir_1', 'pktdir_1', 'pktdir_2', 'pktdir_2', 'pktdir_2', 'pktdir_2', 'pktdir_2', 'pktdir_4', 'pktdir_5', 'pktdir_5', 'pktdir_6', 'pktdir_6', 'pktdir_7', 'pktdir_7', 'pktdir_8', 'pktdir_9', 'pktdir_9', 'ip_ttl_1', 'ip_ttl_2', 'ip_ttl_2', 'ip_ttl_2', 'ip_ttl_2', 'ip_ttl_2', 'ip_ttl_2', 'ip_ttl_4', 'ip_ttl_4', 'ip_ttl_6', 'ip_ttl_6', 'ip_ttl_7', 'ip_ttl_7', 'ip_ttl_8', 'ip_ttl_8', 'ip_ttl_9', 'ip_ttl_9', 'tcp_win_0', 'tcp_win_0', 'tcp_win_0', 'tcp_win_1', 'tcp_win_1', 'tcp_win_1', 'tcp_win_1', 'tcp_win_3', 'tcp_win_3', 'tcp_win_4', 'tcp_win_4', 'tcp_win_4', 'tcp_win_5', 'tcp_win_5', 'tcp_win_5', 'tcp_win_5', 'tcp_win_6', 'tcp_win_6', 'tcp_win_6', 'tcp_win_6', 'tcp_win_6', 'tcp_win_7', 'tcp_win_7', 'tcp_win_7', 'tcp_win_7', 'tcp_win_7', 'tcp_win_8', 'tcp_win_8', 'tcp_win_8', 'tcp_win_8', 'tcp_win_8', 'tcp_win_8', 'tcp_win_9', 'tcp_win_9', 'tcp_win_9', 'tcp_win_9', 'tcp_win_9', 'tcp_win_9', 'tcp_win_9', 'tcp_win_9']\n"
     ]
    }
   ],
   "source": [
    "corr_features, corr_matrix = get_correlated_features(df_sessions_numerical)"
   ]
  },
  {
   "cell_type": "code",
   "execution_count": null,
   "id": "0af8ccf1",
   "metadata": {},
   "outputs": [
    {
     "data": {
      "text/plain": [
       "<AxesSubplot:>"
      ]
     },
     "execution_count": 38,
     "metadata": {},
     "output_type": "execute_result"
    },
    {
     "data": {
      "image/png": "[encoded data removed]",
      "text/plain": [
       "<Figure size 432x288 with 2 Axes>"
      ]
     },
     "metadata": {
      "needs_background": "light"
     },
     "output_type": "display_data"
    }
   ],
   "source": [
    "sns.heatmap(data=corr_matrix, annot=True)"
   ]
  },
  {
   "cell_type": "code",
   "execution_count": null,
   "id": "aa247c55-6f37-4839-89b0-dc6ee834ec0e",
   "metadata": {},
   "outputs": [
    {
     "name": "stderr",
     "output_type": "stream",
     "text": [
      "/tmp/ipykernel_16900/3086325677.py:2: SettingWithCopyWarning: \n",
      "A value is trying to be set on a copy of a slice from a DataFrame\n",
      "\n",
      "See the caveats in the documentation: https://pandas.pydata.org/pandas-docs/stable/user_guide/indexing.html#returning-a-view-versus-a-copy\n",
      "  df_sessions_numerical.drop(labels=drop_col,axis=1,inplace=True)\n",
      "/tmp/ipykernel_16900/3086325677.py:5: SettingWithCopyWarning: \n",
      "A value is trying to be set on a copy of a slice from a DataFrame\n",
      "\n",
      "See the caveats in the documentation: https://pandas.pydata.org/pandas-docs/stable/user_guide/indexing.html#returning-a-view-versus-a-copy\n",
      "  df_sessions_numerical.drop(labels=corr_features,axis=1,inplace=True)\n"
     ]
    }
   ],
   "source": [
    "drop_col = [\"dport\",\"sport\",\"duration\",\"start_time\"]\n",
    "df_sessions_numerical.drop(labels=drop_col,axis=1,inplace=True)\n",
    "\n",
    "\n",
    "df_sessions_numerical.drop(labels=corr_features,axis=1,inplace=True)\n",
    "df_sessions_numerical.columns.to_list()\n",
    "\n",
    "df_sessions = df_sessions_numerical"
   ]
  },
  {
   "cell_type": "markdown",
   "id": "d8d97677",
   "metadata": {},
   "source": [
    "## Обогащение"
   ]
  },
  {
   "cell_type": "code",
   "execution_count": null,
   "id": "342fd3da",
   "metadata": {},
   "outputs": [
    {
     "name": "stdout",
     "output_type": "stream",
     "text": [
      "Enrichment...\n"
     ]
    }
   ],
   "source": [
    "print(\"Enrichment...\")"
   ]
  },
  {
   "cell_type": "code",
   "execution_count": null,
   "id": "2916e987",
   "metadata": {},
   "outputs": [],
   "source": [
    "enrich_dataframe(df_sessions)\n",
    "enrich_dataframe(df_pktiat)\n",
    "enrich_dataframe(df_pktlen)\n",
    "enrich_dataframe(df_pktdir)\n",
    "enrich_dataframe(df_ip_ttl)\n",
    "enrich_dataframe(df_tcp_win)"
   ]
  },
  {
   "cell_type": "markdown",
   "id": "1771961e",
   "metadata": {},
   "source": [
    "## Save"
   ]
  },
  {
   "cell_type": "code",
   "execution_count": null,
   "id": "8b937872",
   "metadata": {},
   "outputs": [
    {
     "name": "stdout",
     "output_type": "stream",
     "text": [
      "df_sessions.shape: (2335, 96)\n",
      "df_pktiat.shape: (2335, 11)\n",
      "df_pktlen.shape: (2335, 11)\n",
      "df_pktdir.shape: (2335, 11)\n",
      "df_ip_ttl.shape: (2335, 11)\n",
      "df_tcp_win.shape: (2335, 11)\n"
     ]
    }
   ],
   "source": [
    "print('df_sessions.shape:', df_sessions.shape)\n",
    "print('df_pktiat.shape:', df_pktiat.shape)\n",
    "print('df_pktlen.shape:', df_pktlen.shape)\n",
    "print('df_pktdir.shape:', df_pktdir.shape)\n",
    "print('df_ip_ttl.shape:', df_ip_ttl.shape)\n",
    "print('df_tcp_win.shape:', df_tcp_win.shape)"
   ]
  },
  {
   "cell_type": "code",
   "execution_count": null,
   "id": "ed200828",
   "metadata": {},
   "outputs": [],
   "source": []
  },
  {
   "cell_type": "code",
   "execution_count": null,
   "id": "7f9ea13c",
   "metadata": {},
   "outputs": [
    {
     "name": "stdout",
     "output_type": "stream",
     "text": [
      "Saving file: ./sstp/df_final_sstpmaxp10_sessions.csv\n",
      "File saved: ./sstp/df_final_sstpmaxp10_sessions.csv\n"
     ]
    }
   ],
   "source": [
    "filename = os.path.join(current_path, df_final_suffix + '_sessions.csv')\n",
    "\n",
    "print(\"Saving file:\", filename)\n",
    "\n",
    "df_sessions.to_csv(filename, index=False, header=True)\n",
    "\n",
    "print(\"File saved:\", filename)"
   ]
  },
  {
   "cell_type": "code",
   "execution_count": null,
   "id": "b71eacb9",
   "metadata": {},
   "outputs": [
    {
     "name": "stdout",
     "output_type": "stream",
     "text": [
      "Saving file: ./sstp/df_final_sstpmaxp10_pktiat.csv\n",
      "File saved: ./sstp/df_final_sstpmaxp10_pktiat.csv\n"
     ]
    }
   ],
   "source": [
    "filename = os.path.join(current_path, df_final_suffix + '_pktiat.csv')\n",
    "\n",
    "print(\"Saving file:\", filename)\n",
    "\n",
    "df_pktiat.to_csv(filename, index=False, header=True)\n",
    "\n",
    "print(\"File saved:\", filename)"
   ]
  },
  {
   "cell_type": "code",
   "execution_count": null,
   "id": "24e967d7",
   "metadata": {},
   "outputs": [
    {
     "name": "stdout",
     "output_type": "stream",
     "text": [
      "Saving file: ./sstp/df_final_sstpmaxp10_pktlen.csv\n",
      "File saved: ./sstp/df_final_sstpmaxp10_pktlen.csv\n"
     ]
    }
   ],
   "source": [
    "filename = os.path.join(current_path, df_final_suffix + '_pktlen.csv')\n",
    "\n",
    "print(\"Saving file:\", filename)\n",
    "\n",
    "df_pktlen.to_csv(filename, index=False, header=True)\n",
    "\n",
    "print(\"File saved:\", filename)"
   ]
  },
  {
   "cell_type": "code",
   "execution_count": null,
   "id": "092f1ade",
   "metadata": {},
   "outputs": [
    {
     "name": "stdout",
     "output_type": "stream",
     "text": [
      "Saving file: ./sstp/df_final_sstpmaxp10_pktdir.csv\n",
      "File saved: ./sstp/df_final_sstpmaxp10_pktdir.csv\n"
     ]
    }
   ],
   "source": [
    "filename = os.path.join(current_path, df_final_suffix + '_pktdir.csv')\n",
    "\n",
    "print(\"Saving file:\", filename)\n",
    "\n",
    "df_pktdir.to_csv(filename, index=False, header=True)\n",
    "\n",
    "print(\"File saved:\", filename)"
   ]
  },
  {
   "cell_type": "code",
   "execution_count": null,
   "id": "725b1cf8",
   "metadata": {},
   "outputs": [
    {
     "name": "stdout",
     "output_type": "stream",
     "text": [
      "Saving file: ./sstp/df_final_sstpmaxp10_ip_ttl.csv\n",
      "File saved: ./sstp/df_final_sstpmaxp10_ip_ttl.csv\n"
     ]
    }
   ],
   "source": [
    "filename = os.path.join(current_path, df_final_suffix + '_ip_ttl.csv')\n",
    "\n",
    "print(\"Saving file:\", filename)\n",
    "\n",
    "df_ip_ttl.to_csv(filename, index=False, header=True)\n",
    "\n",
    "print(\"File saved:\", filename)"
   ]
  },
  {
   "cell_type": "code",
   "execution_count": null,
   "id": "a5f68c39",
   "metadata": {},
   "outputs": [
    {
     "name": "stdout",
     "output_type": "stream",
     "text": [
      "Saving file: ./sstp/df_final_sstpmaxp10_tcp_win.csv\n",
      "File saved: ./sstp/df_final_sstpmaxp10_tcp_win.csv\n"
     ]
    }
   ],
   "source": [
    "filename = os.path.join(current_path, df_final_suffix + '_tcp_win.csv')\n",
    "\n",
    "print(\"Saving file:\", filename)\n",
    "\n",
    "df_tcp_win.to_csv(filename, index=False, header=True)\n",
    "\n",
    "print(\"File saved:\", filename)"
   ]
  }
 ],
 "metadata": {
  "kernelspec": {
   "display_name": "Python 3 (ipykernel)",
   "language": "python",
   "name": "python3"
  },
  "language_info": {
   "codemirror_mode": {
    "name": "ipython",
    "version": 3
   },
   "file_extension": ".py",
   "mimetype": "text/x-python",
   "name": "python",
   "nbconvert_exporter": "python",
   "pygments_lexer": "ipython3",
   "version": "3.9.13"
  }
 },
 "nbformat": 4,
 "nbformat_minor": 5
}
