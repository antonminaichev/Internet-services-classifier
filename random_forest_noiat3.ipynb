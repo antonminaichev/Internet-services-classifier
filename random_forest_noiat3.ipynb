{
 "cells": [
  {
   "cell_type": "markdown",
   "id": "582cb14b",
   "metadata": {},
   "source": [
    "## Классификация сервисов яндекс при помощи модели Random Forest"
   ]
  },
  {
   "cell_type": "markdown",
   "id": "421f6908",
   "metadata": {},
   "source": [
    "### Загрузим библиотеки"
   ]
  },
  {
   "cell_type": "code",
   "execution_count": 1,
   "id": "8e007137",
   "metadata": {},
   "outputs": [
    {
     "name": "stdout",
     "output_type": "stream",
     "text": [
      "Pandas version:  1.4.4\n"
     ]
    }
   ],
   "source": [
    "import pandas as pd\n",
    "\n",
    "print(\"Pandas version: \", pd.__version__)\n",
    "\n",
    "import sys  \n",
    "\n",
    "from sklearn.preprocessing import StandardScaler\n",
    "from sklearn.model_selection import train_test_split\n",
    "from sklearn.ensemble import RandomForestClassifier\n",
    "from sklearn.model_selection import GridSearchCV\n",
    "# from sklearn.cross_validation import  cross_val_score\n",
    "\n"
   ]
  },
  {
   "cell_type": "code",
   "execution_count": 2,
   "id": "0b485b77",
   "metadata": {},
   "outputs": [
    {
     "name": "stdout",
     "output_type": "stream",
     "text": [
      "df_final:  (4693, 40)\n"
     ]
    }
   ],
   "source": [
    "current_path = ''\n",
    "\n",
    "# current_path = 'iter-20230609/by_balabanov'\n",
    "df_final_filename = f'data/df_final.csv'\n",
    "\n",
    "dfFinal = pd.read_csv(df_final_filename)\n",
    "\n",
    "print('df_final: ', dfFinal.shape)"
   ]
  },
  {
   "cell_type": "markdown",
   "id": "85499fa8",
   "metadata": {},
   "source": [
    "#### Посмотрим датасету в глаза"
   ]
  },
  {
   "cell_type": "markdown",
   "id": "f9ff38ec",
   "metadata": {},
   "source": [
    "#### Удалим nan"
   ]
  },
  {
   "cell_type": "code",
   "execution_count": 3,
   "id": "22316a0a",
   "metadata": {},
   "outputs": [
    {
     "data": {
      "text/plain": [
       "(4693, 25)"
      ]
     },
     "execution_count": 3,
     "metadata": {},
     "output_type": "execute_result"
    }
   ],
   "source": [
    "dfFinal.dropna(axis=1,inplace=True)\n",
    "dfFinal.shape"
   ]
  },
  {
   "cell_type": "markdown",
   "id": "42eafe37",
   "metadata": {},
   "source": [
    "#### Выделим target и удалим колонки (по необходимости)"
   ]
  },
  {
   "cell_type": "code",
   "execution_count": 4,
   "id": "3af2e63f",
   "metadata": {},
   "outputs": [],
   "source": [
    "y = dfFinal['type']\n",
    "drop_col = ['type','proto','diag_step_fiat','diag_step_biat','diag_steps', 'pktiat_1', 'pktiat_2', 'pktiat_7', 'pktiat_9']\n",
    "X  = dfFinal.drop(columns=drop_col)"
   ]
  },
  {
   "cell_type": "markdown",
   "id": "e7bd5407",
   "metadata": {},
   "source": [
    "#### Разобьем данные на подопытные и проверочные"
   ]
  },
  {
   "cell_type": "code",
   "execution_count": 5,
   "id": "5586cf24",
   "metadata": {},
   "outputs": [],
   "source": [
    "X_train, X_test, y_train, y_test = X_train, X_test, y_train, y_test = train_test_split(X, y,\n",
    "                                                        test_size=0.3,\n",
    "                                                        random_state=42,\n",
    "                                                        stratify=None)"
   ]
  },
  {
   "cell_type": "markdown",
   "id": "a685a03a-847e-4fb0-aab4-30e3537668c4",
   "metadata": {},
   "source": [
    "#### Погуляем по случайному лесу"
   ]
  },
  {
   "cell_type": "code",
   "execution_count": 6,
   "id": "575f50f1",
   "metadata": {},
   "outputs": [],
   "source": [
    "estimator = RandomForestClassifier()"
   ]
  },
  {
   "cell_type": "markdown",
   "id": "5c0d5828",
   "metadata": {},
   "source": [
    "##### ...со следующим набором параметров"
   ]
  },
  {
   "cell_type": "code",
   "execution_count": 8,
   "id": "deb9a9f3",
   "metadata": {},
   "outputs": [],
   "source": [
    "parameters = {\n",
    "    #'n_estimators': [50, 200, 700],\n",
    "    'max_features': ['sqrt', 'log2'],\n",
    "    'n_estimators': range(50, 700, 50)\n",
    "}"
   ]
  },
  {
   "cell_type": "code",
   "execution_count": 9,
   "id": "bf9a39b6",
   "metadata": {},
   "outputs": [],
   "source": [
    "grid_search = GridSearchCV(\n",
    "    estimator=estimator,\n",
    "    param_grid=parameters,\n",
    "    scoring = 'accuracy',\n",
    "    n_jobs = 5,\n",
    "    cv = 10,\n",
    "    verbose=True\n",
    ")"
   ]
  },
  {
   "cell_type": "code",
   "execution_count": 10,
   "id": "2e1b49af",
   "metadata": {},
   "outputs": [
    {
     "name": "stdout",
     "output_type": "stream",
     "text": [
      "Fitting 10 folds for each of 26 candidates, totalling 260 fits\n"
     ]
    },
    {
     "data": {
      "text/plain": [
       "GridSearchCV(cv=10, estimator=RandomForestClassifier(), n_jobs=5,\n",
       "             param_grid={'max_features': ['sqrt', 'log2'],\n",
       "                         'n_estimators': range(50, 700, 50)},\n",
       "             scoring='accuracy', verbose=True)"
      ]
     },
     "execution_count": 10,
     "metadata": {},
     "output_type": "execute_result"
    }
   ],
   "source": [
    "grid_search.fit(X_train, y_train)"
   ]
  },
  {
   "cell_type": "code",
   "execution_count": 11,
   "id": "25a8c882",
   "metadata": {},
   "outputs": [
    {
     "data": {
      "text/plain": [
       "RandomForestClassifier(max_features='log2', n_estimators=550)"
      ]
     },
     "execution_count": 11,
     "metadata": {},
     "output_type": "execute_result"
    }
   ],
   "source": [
    "grid_search.best_estimator_"
   ]
  },
  {
   "cell_type": "code",
   "execution_count": 12,
   "id": "77548422",
   "metadata": {},
   "outputs": [],
   "source": [
    "predictions_RFC = grid_search.predict(X_test)"
   ]
  },
  {
   "cell_type": "code",
   "execution_count": 13,
   "id": "c9e7a0e3",
   "metadata": {},
   "outputs": [],
   "source": [
    "import seaborn as sns\n",
    "import matplotlib.pyplot as plt\n",
    "from sklearn.metrics import (confusion_matrix, accuracy_score, ConfusionMatrixDisplay)"
   ]
  },
  {
   "cell_type": "code",
   "execution_count": 14,
   "id": "c7d42bd8",
   "metadata": {},
   "outputs": [],
   "source": [
    "def plot_confusion_matrix(y_test, prediction, model_name, index=[\"0\", \"1\", \"2\"], columns=[\"0\", \"1\", \"2\"]):\n",
    "    cm = confusion_matrix(y_test, prediction)\n",
    "    cm_df = pd.DataFrame(cm, index, columns)\n",
    "    plt.figure(figsize=(5, 5))\n",
    "    sns.heatmap(cm_df, annot=True, fmt='g', annot_kws={\"size\": 10})\n",
    "    plt.title(model_name+'\\nAccuracy:{0:.4f}'.format(accuracy_score(y_test, prediction)))\n",
    "    plt.ylabel('True Label', fontsize=1)\n",
    "    plt.show()\n",
    "\n",
    "\n",
    "def display_confusion_matrix(y_test, prediction, display_labels=[\"0\", \"1\", \"2\"]):\n",
    "    cm = confusion_matrix(y_test, prediction)\n",
    "    cm_display = ConfusionMatrixDisplay(confusion_matrix=cm, display_labels=display_labels)\n",
    "    cm_display.plot()\n",
    "    plt.show()\n"
   ]
  },
  {
   "cell_type": "code",
   "execution_count": 15,
   "id": "31062e10-c12a-4e13-8827-ba13f2491736",
   "metadata": {},
   "outputs": [
    {
     "data": {
      "image/png": "[encoded data removed]",
      "text/plain": [
       "<Figure size 500x500 with 2 Axes>"
      ]
     },
     "metadata": {},
     "output_type": "display_data"
    }
   ],
   "source": [
    "plot_confusion_matrix(y_test, predictions_RFC.round(), \"Analysis\", index=[\"video\", \"music\", \"disk\"], columns=[\"video\", \"music\", \"disk\"])"
   ]
  },
  {
   "cell_type": "code",
   "execution_count": 16,
   "id": "d38d8b79",
   "metadata": {},
   "outputs": [
    {
     "data": {
      "image/png": "[encoded data removed]",
      "text/plain": [
       "<Figure size 640x480 with 2 Axes>"
      ]
     },
     "metadata": {},
     "output_type": "display_data"
    }
   ],
   "source": [
    "display_confusion_matrix(y_test, predictions_RFC.round(), display_labels=[\"video\", \"music\", \"disk\"])"
   ]
  },
  {
   "cell_type": "code",
   "execution_count": 17,
   "id": "5b5b978b",
   "metadata": {},
   "outputs": [
    {
     "data": {
      "text/html": [
       "<div>\n",
       "<style scoped>\n",
       "    .dataframe tbody tr th:only-of-type {\n",
       "        vertical-align: middle;\n",
       "    }\n",
       "\n",
       "    .dataframe tbody tr th {\n",
       "        vertical-align: top;\n",
       "    }\n",
       "\n",
       "    .dataframe thead th {\n",
       "        text-align: right;\n",
       "    }\n",
       "</style>\n",
       "<table border=\"1\" class=\"dataframe\">\n",
       "  <thead>\n",
       "    <tr style=\"text-align: right;\">\n",
       "      <th></th>\n",
       "      <th>feature</th>\n",
       "      <th>importance</th>\n",
       "    </tr>\n",
       "  </thead>\n",
       "  <tbody>\n",
       "    <tr>\n",
       "      <th>2</th>\n",
       "      <td>min_fiat</td>\n",
       "      <td>0.152430</td>\n",
       "    </tr>\n",
       "    <tr>\n",
       "      <th>15</th>\n",
       "      <td>pktlen_8</td>\n",
       "      <td>0.130671</td>\n",
       "    </tr>\n",
       "    <tr>\n",
       "      <th>3</th>\n",
       "      <td>min_biat</td>\n",
       "      <td>0.127088</td>\n",
       "    </tr>\n",
       "    <tr>\n",
       "      <th>1</th>\n",
       "      <td>f_pkts_num</td>\n",
       "      <td>0.048551</td>\n",
       "    </tr>\n",
       "    <tr>\n",
       "      <th>4</th>\n",
       "      <td>flow_packets_per_second</td>\n",
       "      <td>0.041113</td>\n",
       "    </tr>\n",
       "    <tr>\n",
       "      <th>5</th>\n",
       "      <td>f_min_pkt_size</td>\n",
       "      <td>0.000148</td>\n",
       "    </tr>\n",
       "    <tr>\n",
       "      <th>0</th>\n",
       "      <td>packets_count</td>\n",
       "      <td>0.000000</td>\n",
       "    </tr>\n",
       "    <tr>\n",
       "      <th>6</th>\n",
       "      <td>b_min_pkt_size</td>\n",
       "      <td>0.000000</td>\n",
       "    </tr>\n",
       "    <tr>\n",
       "      <th>7</th>\n",
       "      <td>tcp_syn_count</td>\n",
       "      <td>0.000000</td>\n",
       "    </tr>\n",
       "    <tr>\n",
       "      <th>8</th>\n",
       "      <td>tcp_ack_count</td>\n",
       "      <td>0.000000</td>\n",
       "    </tr>\n",
       "    <tr>\n",
       "      <th>9</th>\n",
       "      <td>tcp_rst_count</td>\n",
       "      <td>0.000000</td>\n",
       "    </tr>\n",
       "    <tr>\n",
       "      <th>10</th>\n",
       "      <td>tcp_fin_count</td>\n",
       "      <td>0.000000</td>\n",
       "    </tr>\n",
       "    <tr>\n",
       "      <th>11</th>\n",
       "      <td>tcp_urg_count</td>\n",
       "      <td>0.000000</td>\n",
       "    </tr>\n",
       "    <tr>\n",
       "      <th>12</th>\n",
       "      <td>tcp_retr_count</td>\n",
       "      <td>0.000000</td>\n",
       "    </tr>\n",
       "    <tr>\n",
       "      <th>13</th>\n",
       "      <td>pktiat_0</td>\n",
       "      <td>0.000000</td>\n",
       "    </tr>\n",
       "    <tr>\n",
       "      <th>14</th>\n",
       "      <td>pktlen_1</td>\n",
       "      <td>0.000000</td>\n",
       "    </tr>\n",
       "  </tbody>\n",
       "</table>\n",
       "</div>"
      ],
      "text/plain": [
       "                    feature  importance\n",
       "2                  min_fiat    0.152430\n",
       "15                 pktlen_8    0.130671\n",
       "3                  min_biat    0.127088\n",
       "1                f_pkts_num    0.048551\n",
       "4   flow_packets_per_second    0.041113\n",
       "5            f_min_pkt_size    0.000148\n",
       "0             packets_count    0.000000\n",
       "6            b_min_pkt_size    0.000000\n",
       "7             tcp_syn_count    0.000000\n",
       "8             tcp_ack_count    0.000000\n",
       "9             tcp_rst_count    0.000000\n",
       "10            tcp_fin_count    0.000000\n",
       "11            tcp_urg_count    0.000000\n",
       "12           tcp_retr_count    0.000000\n",
       "13                 pktiat_0    0.000000\n",
       "14                 pktlen_1    0.000000"
      ]
     },
     "execution_count": 17,
     "metadata": {},
     "output_type": "execute_result"
    }
   ],
   "source": [
    "feature_importances = grid_search.best_estimator_.feature_importances_ / 2\n",
    "feature_importances = pd.DataFrame({'feature': list(X.columns),\n",
    "                                    'importance': feature_importances}\n",
    "                                  ).sort_values('importance', ascending = False)\n",
    "\n",
    "feature_importances"
   ]
  },
  {
   "cell_type": "code",
   "execution_count": null,
   "id": "4f8cc8ca",
   "metadata": {},
   "outputs": [],
   "source": []
  }
 ],
 "metadata": {
  "kernelspec": {
   "display_name": "Python 3 (ipykernel)",
   "language": "python",
   "name": "python3"
  },
  "language_info": {
   "codemirror_mode": {
    "name": "ipython",
    "version": 3
   },
   "file_extension": ".py",
   "mimetype": "text/x-python",
   "name": "python",
   "nbconvert_exporter": "python",
   "pygments_lexer": "ipython3",
   "version": "3.9.13"
  }
 },
 "nbformat": 4,
 "nbformat_minor": 5
}
